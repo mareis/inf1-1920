{
 "cells": [
  {
   "cell_type": "code",
   "execution_count": 9,
   "metadata": {},
   "outputs": [
    {
     "name": "stdout",
     "output_type": "stream",
     "text": [
      "4\n",
      "6\n",
      "3\n",
      "6\n",
      "11\n"
     ]
    }
   ],
   "source": [
    "variabel = 4\n",
    "test = 3\n",
    "\n",
    "def f():\n",
    "    global variabel, test\n",
    "    print(variabel)\n",
    "    variabel += 2\n",
    "    print(variabel)\n",
    "    print(test)\n",
    "\n",
    "def g():\n",
    "    global variabel\n",
    "    print(variabel)\n",
    "    variabel += 5\n",
    "    \n",
    "    \n",
    "f()\n",
    "g()\n",
    "print(variabel)\n"
   ]
  },
  {
   "cell_type": "code",
   "execution_count": null,
   "metadata": {},
   "outputs": [],
   "source": []
  }
 ],
 "metadata": {
  "kernelspec": {
   "display_name": "Python 3",
   "language": "python",
   "name": "python3"
  },
  "language_info": {
   "codemirror_mode": {
    "name": "ipython",
    "version": 3
   },
   "file_extension": ".py",
   "mimetype": "text/x-python",
   "name": "python",
   "nbconvert_exporter": "python",
   "pygments_lexer": "ipython3",
   "version": "3.7.5"
  }
 },
 "nbformat": 4,
 "nbformat_minor": 4
}
